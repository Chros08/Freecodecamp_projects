{
 "cells": [
  {
   "cell_type": "markdown",
   "id": "b55de1d0",
   "metadata": {},
   "source": [
    "# Demographic Data Analyzer\n"
   ]
  },
  {
   "cell_type": "markdown",
   "id": "4f959e9d",
   "metadata": {},
   "source": [
    "In this challenge you must analyze demographic data using Pandas. You are given a dataset of demographic data that was extracted from the 1994 Census database. Here is a sample of what the data looks like:"
   ]
  },
  {
   "cell_type": "markdown",
   "id": "1144c4a0",
   "metadata": {},
   "source": [
    "|    |   age | workclass        |   fnlwgt | education   |   education-num | marital-status     | occupation        | relationship   | race   | sex    |   capital-gain |   capital-loss |   hours-per-week | native-country   | salary   |\n",
    "|---:|------:|:-----------------|---------:|:------------|----------------:|:-------------------|:------------------|:---------------|:-------|:-------|---------------:|---------------:|-----------------:|:-----------------|:---------|\n",
    "|  0 |    39 | State-gov        |    77516 | Bachelors   |              13 | Never-married      | Adm-clerical      | Not-in-family  | White  | Male   |           2174 |              0 |               40 | United-States    | <=50K    |\n",
    "|  1 |    50 | Self-emp-not-inc |    83311 | Bachelors   |              13 | Married-civ-spouse | Exec-managerial   | Husband        | White  | Male   |              0 |              0 |               13 | United-States    | <=50K    |\n",
    "|  2 |    38 | Private          |   215646 | HS-grad     |               9 | Divorced           | Handlers-cleaners | Not-in-family  | White  | Male   |              0 |              0 |               40 | United-States    | <=50K    |\n",
    "|  3 |    53 | Private          |   234721 | 11th        |               7 | Married-civ-spouse | Handlers-cleaners | Husband        | Black  | Male   |              0 |              0 |               40 | United-States    | <=50K    |\n",
    "|  4 |    28 | Private          |   338409 | Bachelors   |              13 | Married-civ-spouse | Prof-specialty    | Wife           | Black  | Female |              0 |              0 |               40 | Cuba             | <=50K    |"
   ]
  },
  {
   "cell_type": "markdown",
   "id": "4155a539",
   "metadata": {},
   "source": [
    "You must use Pandas to answer the following questions:\n",
    "- How many people of each race are represented in this dataset? This should be a Pandas series with race names as the index labels. (race column)\n",
    "- What is the average age of men?\n",
    "- What is the percentage of people who have a Bachelor's degree?\n",
    "- What percentage of people with advanced education (Bachelors, Masters, or Doctorate) make more than 50K?\n",
    "- What percentage of people without advanced education make more than 50K?\n",
    "- What is the minimum number of hours a person works per week?\n",
    "- What percentage of the people who work the minimum number of hours per week have a salary of more than 50K?\n",
    "- What country has the highest percentage of people that earn >50K and what is that percentage?\n",
    "- Identify the most popular occupation for those who earn >50K in India."
   ]
  },
  {
   "cell_type": "markdown",
   "id": "c87264ef",
   "metadata": {},
   "source": [
    "#### Import libraries"
   ]
  },
  {
   "cell_type": "code",
   "execution_count": 1,
   "id": "230e04da",
   "metadata": {},
   "outputs": [],
   "source": [
    "import pandas as pd"
   ]
  },
  {
   "cell_type": "markdown",
   "id": "5b5312a1",
   "metadata": {},
   "source": [
    "#### Read File"
   ]
  },
  {
   "cell_type": "code",
   "execution_count": 2,
   "id": "2f42575f",
   "metadata": {
    "scrolled": false
   },
   "outputs": [],
   "source": [
    "df=pd.read_csv(\"adult.data.csv\")"
   ]
  },
  {
   "cell_type": "markdown",
   "id": "6df1ae7b",
   "metadata": {},
   "source": [
    "How many people of each race are represented in this dataset?"
   ]
  },
  {
   "cell_type": "code",
   "execution_count": 3,
   "id": "0c8e8aed",
   "metadata": {},
   "outputs": [],
   "source": [
    "race_count = df[\"race\"].value_counts()"
   ]
  },
  {
   "cell_type": "markdown",
   "id": "e6da9380",
   "metadata": {},
   "source": [
    "What is the average age of men?"
   ]
  },
  {
   "cell_type": "code",
   "execution_count": 5,
   "id": "a1c68824",
   "metadata": {},
   "outputs": [],
   "source": [
    "df2=df[df['sex']==\"Male\"]\n",
    "average_age_men = df2.age.mean()"
   ]
  },
  {
   "cell_type": "markdown",
   "id": "8123ed55",
   "metadata": {},
   "source": [
    "What is the percentage of people who have a Bachelor's degree?"
   ]
  },
  {
   "cell_type": "code",
   "execution_count": 22,
   "id": "b8613633",
   "metadata": {},
   "outputs": [],
   "source": [
    "percentage_bachelors = df.groupby('education')['education'].count()[\"Bachelors\"]/df['education'].count()*100"
   ]
  },
  {
   "cell_type": "markdown",
   "id": "0cf68b9b",
   "metadata": {},
   "source": [
    "What percentage of people with advanced education (Bachelors, Masters, or Doctorate) make more than 50K?"
   ]
  },
  {
   "cell_type": "code",
   "execution_count": 43,
   "id": "bdbad3ab",
   "metadata": {},
   "outputs": [],
   "source": [
    "df4=df[df['education'].isin(['Bachelors','Masters','Doctorate'])]\n",
    "df5=df4[df4.salary==\">50K\"]\n",
    "higher_education_rich = df5.salary.count()/df4.salary.count()*100\n",
    "df6=df[~df['education'].isin(['Bachelors','Masters','Doctorate'])]\n",
    "  \n",
    "lower_education_rich = df6[df6['salary']==\">50K\"].salary.count()/df6.salary.count()*100\n"
   ]
  },
  {
   "cell_type": "markdown",
   "id": "67346926",
   "metadata": {},
   "source": [
    "What percentage of people without advanced education make more than 50K?"
   ]
  },
  {
   "cell_type": "code",
   "execution_count": 8,
   "id": "c05f3e51",
   "metadata": {},
   "outputs": [],
   "source": [
    "higher_education_rich = df[df.salary==\">50K\"].salary.count()/df.salary.count()\n",
    "lower_education_rich = df[df.salary==\"<=50K\"].salary.count()/df.salary.count()"
   ]
  },
  {
   "cell_type": "markdown",
   "id": "872dbbc2",
   "metadata": {},
   "source": [
    "What is the minimum number of hours a person works per week?"
   ]
  },
  {
   "cell_type": "code",
   "execution_count": 16,
   "id": "2adfc0d0",
   "metadata": {},
   "outputs": [],
   "source": [
    "min_work_hours = df['hours-per-week'].min()\n"
   ]
  },
  {
   "cell_type": "markdown",
   "id": "2cbe81cd",
   "metadata": {},
   "source": [
    "What percentage of the people who work the minimum number of hours per week have a salary of more than 50K?"
   ]
  },
  {
   "cell_type": "code",
   "execution_count": 47,
   "id": "a7d30ca6",
   "metadata": {},
   "outputs": [
    {
     "name": "stderr",
     "output_type": "stream",
     "text": [
      "C:\\Users\\chris\\AppData\\Local\\Temp\\ipykernel_1300\\2363069895.py:2: UserWarning: Boolean Series key will be reindexed to match DataFrame index.\n",
      "  rich_percentage = df7[df['salary']==\">50K\"].salary.count()/df[df['hours-per-week']==1]['hours-per-week'].count()*100\n"
     ]
    }
   ],
   "source": [
    "df7=df[df['hours-per-week']==1]\n",
    "rich_percentage = df7[df['salary']==\">50K\"].salary.count()/df[df['hours-per-week']==1]['hours-per-week'].count()*100"
   ]
  },
  {
   "cell_type": "markdown",
   "id": "d4a9ab2c",
   "metadata": {},
   "source": [
    "What country has the highest percentage of people that earn >50K and what is that percentage?"
   ]
  },
  {
   "cell_type": "code",
   "execution_count": 49,
   "id": "fd5b3884",
   "metadata": {},
   "outputs": [],
   "source": [
    "series1=df.groupby('native-country')['salary'].count()\n",
    "df9=df[df.salary==\">50K\"]\n",
    "series2=df9.groupby('native-country')['salary'].count()\n",
    "div=series2.div(series1)\n",
    "highest_earning_country = div[div==div.max()].index[0]\n",
    "highest_earning_country_percentage = div.max()*100"
   ]
  },
  {
   "cell_type": "markdown",
   "id": "28acc3c9",
   "metadata": {},
   "source": [
    "Identify the most popular occupation for those who earn >50K in India."
   ]
  },
  {
   "cell_type": "code",
   "execution_count": 11,
   "id": "89e5f03f",
   "metadata": {},
   "outputs": [],
   "source": [
    "df10=df[(df['native-country']==\"India\") & (df['salary']==\">50K\")]\n",
    "series3=df10.groupby('occupation')['occupation'].count().sort_values(ascending=False)\n",
    "top_IN_occupation = series3.idxmax()"
   ]
  },
  {
   "cell_type": "markdown",
   "id": "1d1e31b3",
   "metadata": {},
   "source": [
    "### Printing all answers"
   ]
  },
  {
   "cell_type": "code",
   "execution_count": 50,
   "id": "aedf83fc",
   "metadata": {},
   "outputs": [
    {
     "name": "stdout",
     "output_type": "stream",
     "text": [
      "Number of each race:\n",
      " White                 27816\n",
      "Black                  3124\n",
      "Asian-Pac-Islander     1039\n",
      "Amer-Indian-Eskimo      311\n",
      "Other                   271\n",
      "Name: race, dtype: int64\n",
      "Average age of men: 39.4\n",
      "Percentage with Bachelors degrees: 16.4%\n",
      "Percentage with higher education that earn >50K: 46.5%\n",
      "Percentage without higher education that earn >50K: 17.4%\n",
      "Min work time: 1 hours/week\n",
      "Percentage of rich among those who work fewest hours: 10.0%\n",
      "Country with highest percentage of rich: Iran\n",
      "Highest percentage of rich people in country: 41.9%\n",
      "Top occupations in India: Prof-specialty\n"
     ]
    }
   ],
   "source": [
    "print(\"Number of each race:\\n\", race_count) \n",
    "print(\"Average age of men:\", round(average_age_men,1))\n",
    "print(f\"Percentage with Bachelors degrees: {round(percentage_bachelors,1)}%\")\n",
    "print(f\"Percentage with higher education that earn >50K: {round(higher_education_rich,1)}%\")\n",
    "print(f\"Percentage without higher education that earn >50K: {round(lower_education_rich,1)}%\")\n",
    "print(f\"Min work time: {min_work_hours} hours/week\")\n",
    "print(f\"Percentage of rich among those who work fewest hours: {round(rich_percentage,1)}%\")\n",
    "print(\"Country with highest percentage of rich:\", highest_earning_country)\n",
    "print(f\"Highest percentage of rich people in country: {round(highest_earning_country_percentage,1)}%\")\n",
    "print(\"Top occupations in India:\", top_IN_occupation)"
   ]
  }
 ],
 "metadata": {
  "kernelspec": {
   "display_name": "Python 3 (ipykernel)",
   "language": "python",
   "name": "python3"
  },
  "language_info": {
   "codemirror_mode": {
    "name": "ipython",
    "version": 3
   },
   "file_extension": ".py",
   "mimetype": "text/x-python",
   "name": "python",
   "nbconvert_exporter": "python",
   "pygments_lexer": "ipython3",
   "version": "3.10.4"
  }
 },
 "nbformat": 4,
 "nbformat_minor": 5
}
