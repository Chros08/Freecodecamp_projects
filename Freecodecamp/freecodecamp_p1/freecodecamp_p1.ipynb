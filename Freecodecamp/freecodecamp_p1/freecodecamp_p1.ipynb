{
 "cells": [
  {
   "cell_type": "markdown",
   "id": "0fdacdee",
   "metadata": {},
   "source": [
    "# Mean-Variance-Standard Deviation Calculator"
   ]
  },
  {
   "cell_type": "markdown",
   "id": "1b544f68",
   "metadata": {},
   "source": [
    "#### Create a function named calculate() in mean_var_std.py that uses Numpy to output the mean, variance, standard deviation, max, min, and sum of the rows, columns, and elements in a 3 x 3 matrix.\n",
    "\n",
    "#### The input of the function should be a list containing 9 digits. The function should convert the list into a 3 x 3 Numpy array, and then return a dictionary containing the mean, variance, standard deviation, max, min, and sum along both axes and for the flattened matrix."
   ]
  },
  {
   "cell_type": "markdown",
   "id": "6c983c4b",
   "metadata": {},
   "source": [
    "#### The returned dictionary should follow this format:\n",
    "\n",
    "{<br>\n",
    "'mean': [axis1, axis2, flattened],<br>\n",
    "'variance': [axis1, axis2, flattened],<br>\n",
    "'standard deviation': [axis1, axis2, flattened],<br>\n",
    "'max': [axis1, axis2, flattened],<br>\n",
    "'min': [axis1, axis2, flattened],<br>\n",
    "'sum': [axis1, axis2, flattened]<br>\n",
    "}\n",
    "<br>If a list containing less than 9 elements is passed into the function, it should raise a ValueError exception with the message: \"List must contain nine numbers.\" The values in the returned dictionary should be lists and not Numpy arrays.\n",
    "\n",
    "For example, calculate([0,1,2,3,4,5,6,7,8]) should return:\n",
    "\n",
    "{<br>\n",
    "  'mean': [[3.0, 4.0, 5.0], [1.0, 4.0, 7.0], 4.0],<br>\n",
    "  'variance': [[6.0, 6.0, 6.0], [0.6666666666666666, 0.6666666666666666, 0.6666666666666666], 6.666666666666667],<br>\n",
    "  'standard deviation': [[2.449489742783178, 2.449489742783178, 2.449489742783178], [0.816496580927726, 0.816496580927726, 0.816496580927726], 2.581988897471611],<br>\n",
    "  'max': [[6, 7, 8], [2, 5, 8], 8],<br>\n",
    "  'min': [[0, 1, 2], [0, 3, 6], 0],<br>\n",
    "  'sum': [[9, 12, 15], [3, 12, 21], 36]<br>\n",
    "}"
   ]
  },
  {
   "cell_type": "code",
   "execution_count": 1,
   "id": "00b837a9",
   "metadata": {},
   "outputs": [],
   "source": [
    "import numpy as np"
   ]
  },
  {
   "cell_type": "code",
   "execution_count": 2,
   "id": "bb30d949",
   "metadata": {},
   "outputs": [],
   "source": [
    "def calculate(list):\n",
    "    if len(list)!=9:\n",
    "        raise ValueError(\"Should be nine elements\")\n",
    "    a = np.empty([3,3])\n",
    "    for i in range(3):\n",
    "      for k in range(3):\n",
    "        a[i][k]=list[i+k]\n",
    "        if i ==1:\n",
    "            num=i+k+2\n",
    "            a[i][k]=list[num]\n",
    "        if i ==2:\n",
    "              num=i+k+4\n",
    "              a[i][k]=list[num]\n",
    "    lista1=[[np.mean(a[:,0]),np.mean(a[:,1]),np.mean(a[:,2])],[np.mean(a[0:,]),np.mean(a[1:,]),np.mean(a[2:,])],np.mean(a)]\n",
    "    lista2=[[np.var(a[:,0]),np.var(a[:,1]),np.var(a[:,2])],[np.var(a[0:,]),np.var(a[1:,]),np.var(a[2:,])],np.var(a)]\n",
    "    lista3=[[np.std(a[:,0]),np.std(a[:,1]),np.std(a[:,2])],[np.std(a[0:,]),np.std(a[1:,]),np.std(a[2:,])],np.std(a)]\n",
    "    lista4=[[np.max(a[:,0]),np.max(a[:,1]),np.max(a[:,2])],[np.max(a[0:,]),np.max(a[1:,]),np.max(a[2:,])],np.max(a)]\n",
    "    lista5=[[np.min(a[:,0]),np.min(a[:,1]),np.min(a[:,2])],[np.min(a[0:,]),np.min(a[1:,]),np.min(a[2:,])],np.min(a)]\n",
    "    lista6=[[np.sum(a[:,0]),np.sum(a[:,1]),np.sum(a[:,2])],[np.sum(a[0:,]),np.sum(a[1:,]),np.sum(a[2:,])],np.sum(a)]  \n",
    "    calculations={ \n",
    "    'mean': lista1,\n",
    "    'variance': lista2,\n",
    "    'standard deviation': lista3,\n",
    "    'max': lista4 ,\n",
    "    'min': lista5,\n",
    "    'sum': lista6\n",
    "    }\n",
    "    return calculations"
   ]
  },
  {
   "cell_type": "markdown",
   "id": "81c2ace1",
   "metadata": {},
   "source": [
    "### Changing some code to make it look better"
   ]
  },
  {
   "cell_type": "code",
   "execution_count": 25,
   "id": "52cc3864",
   "metadata": {
    "scrolled": true
   },
   "outputs": [
    {
     "name": "stdout",
     "output_type": "stream",
     "text": [
      "mean [array([3., 4., 5.]), array([4. , 5.5, 7. ]), 4.0]\n",
      "variance [array([6., 6., 6.]), array([6.67, 2.92, 0.67]), 6.67]\n",
      "standard deviation [array([2.45, 2.45, 2.45]), array([2.58, 1.71, 0.82]), 2.58]\n",
      "max [array([6., 7., 8.]), array([8., 8., 8.]), 8.0]\n",
      "min [array([0., 1., 2.]), array([0., 3., 6.]), 0.0]\n",
      "sum [array([ 9., 12., 15.]), array([36., 33., 21.]), 36.0]\n"
     ]
    }
   ],
   "source": [
    "lista=calculate([0,1,2,3,4,5,6,7,8])\n",
    "for k,v in lista.items():\n",
    "    v = [np.round(x,2) for x in v]\n",
    "    print(k,v)\n"
   ]
  }
 ],
 "metadata": {
  "kernelspec": {
   "display_name": "Python 3 (ipykernel)",
   "language": "python",
   "name": "python3"
  },
  "language_info": {
   "codemirror_mode": {
    "name": "ipython",
    "version": 3
   },
   "file_extension": ".py",
   "mimetype": "text/x-python",
   "name": "python",
   "nbconvert_exporter": "python",
   "pygments_lexer": "ipython3",
   "version": "3.10.4"
  }
 },
 "nbformat": 4,
 "nbformat_minor": 5
}
